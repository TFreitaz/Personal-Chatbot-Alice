{
 "cells": [
  {
   "cell_type": "code",
   "execution_count": 10,
   "metadata": {},
   "outputs": [],
   "source": [
    "from robobrowser import RoboBrowser\n",
    "import pandas as pd\n",
    "from tqdm import tqdm\n",
    "import matplotlib.pyplot as plt\n",
    "from statsmodels.tsa.api import SimpleExpSmoothing, Holt, ExponentialSmoothing\n",
    "from statsmodels.tsa.arima_model import ARIMA\n",
    "from statsmodels.tsa.vector_ar.var_model import VAR\n",
    "from keras.models import model_from_json\n",
    "from ztools.ntf import mail\n",
    "import numpy as np\n",
    "import statsmodels.api as sm\n",
    "import time\n",
    "import pickle\n",
    "import json"
   ]
  },
  {
   "cell_type": "code",
   "execution_count": 11,
   "metadata": {},
   "outputs": [],
   "source": [
    "from robobrowser import RoboBrowser\n",
    "import time\n",
    "import json\n",
    "\n",
    "def turnFloat(x):\n",
    "    x = x.replace('.', '').replace(',', '.')\n",
    "    return float(x)\n",
    "\n",
    "def into(item):\n",
    "    return item[0]\n",
    "\n",
    "def numerize(num):\n",
    "    if str(num).lower() == 'nan':\n",
    "        return 0\n",
    "    else:\n",
    "        return num\n",
    "    \n",
    "def turnCurrency(x):\n",
    "    num = x.split('.')\n",
    "    value = ''\n",
    "    for i in range(1, len(num[0]) + 1):\n",
    "        value = f'{num[0][-i]}{value}'\n",
    "        if i % 3 == 0:\n",
    "            value = f'.{value}'\n",
    "    if len(num) > 1:\n",
    "        value += f',{num[1][:3]}'\n",
    "    else:\n",
    "        value += ',000'\n",
    "    return value\n",
    "    \n",
    "def today(nowtime):\n",
    "    today = time.localtime(nowtime)\n",
    "    day = str(today.tm_mday)\n",
    "    if len(day) == 1:\n",
    "        day = '0' + day\n",
    "    mon = str(today.tm_mon)\n",
    "    if len(mon) == 1:\n",
    "        mon = '0' + mon\n",
    "    year = str(today.tm_year)[-2:]\n",
    "    date = f'{day}.{mon}.20{year}'\n",
    "    return date\n",
    "\n",
    "def now_value():\n",
    "    browser = RoboBrowser(parser = 'html.parser')\n",
    "    ticker = 'https://www.mercadobitcoin.net/api/BTC/ticker/'\n",
    "    browser.open(ticker)\n",
    "    r = json.loads(browser.response.content)\n",
    "    date = time.localtime(r['ticker']['date'])\n",
    "    value = turnCurrency(r['ticker']['last'])\n",
    "    return (date, value)"
   ]
  },
  {
   "cell_type": "code",
   "execution_count": 12,
   "metadata": {},
   "outputs": [],
   "source": [
    "data = pd.read_csv('btcbrl.csv')\n",
    "hist = data[['Data', 'Último']][::-1]\n",
    "hist.columns = ('date', 'val')\n",
    "hist['val'] = list(map(turnFloat, hist['val']))\n",
    "#hist.to_csv('data_brl.csv', index = False)"
   ]
  },
  {
   "cell_type": "code",
   "execution_count": 13,
   "metadata": {},
   "outputs": [],
   "source": [
    "browser = RoboBrowser(parser = 'html.parser')\n",
    "ticker = 'https://www.mercadobitcoin.net/api/BTC/ticker/'\n",
    "browser.open(ticker)"
   ]
  },
  {
   "cell_type": "code",
   "execution_count": 14,
   "metadata": {},
   "outputs": [],
   "source": [
    "r = json.loads(browser.response.content)\n",
    "date = today(r['ticker']['date'])\n",
    "value = r['ticker']['last']"
   ]
  },
  {
   "cell_type": "code",
   "execution_count": 15,
   "metadata": {},
   "outputs": [],
   "source": [
    "browser = RoboBrowser(parser = 'html.parser', user_agent = 'Mozilla/5.0 (Windows NT 10.0; Win64; x64) AppleWebKit/537.36 (KHTML, like Gecko) Chrome/80.0.3987.132 Safari/537.36')\n",
    "url = 'https://br.investing.com/crypto/bitcoin/btc-brl-historical-data'\n",
    "browser.open(url)"
   ]
  },
  {
   "cell_type": "code",
   "execution_count": 16,
   "metadata": {},
   "outputs": [
    {
     "ename": "NameError",
     "evalue": "name 'rows' is not defined",
     "output_type": "error",
     "traceback": [
      "\u001b[1;31m---------------------------------------------------------------------------\u001b[0m",
      "\u001b[1;31mNameError\u001b[0m                                 Traceback (most recent call last)",
      "\u001b[1;32m<ipython-input-16-fa3189a8d49f>\u001b[0m in \u001b[0;36m<module>\u001b[1;34m()\u001b[0m\n\u001b[1;32m----> 1\u001b[1;33m \u001b[0mrow\u001b[0m \u001b[1;33m=\u001b[0m \u001b[0mrows\u001b[0m\u001b[1;33m[\u001b[0m\u001b[1;36m1\u001b[0m\u001b[1;33m]\u001b[0m\u001b[1;33m\u001b[0m\u001b[0m\n\u001b[0m\u001b[0;32m      2\u001b[0m \u001b[0mitens\u001b[0m \u001b[1;33m=\u001b[0m \u001b[0mrow\u001b[0m\u001b[1;33m.\u001b[0m\u001b[0mfind_all\u001b[0m\u001b[1;33m(\u001b[0m\u001b[1;34m'td'\u001b[0m\u001b[1;33m)\u001b[0m\u001b[1;33m\u001b[0m\u001b[0m\n\u001b[0;32m      3\u001b[0m \u001b[0mdate\u001b[0m \u001b[1;33m=\u001b[0m \u001b[0mitens\u001b[0m\u001b[1;33m[\u001b[0m\u001b[1;36m0\u001b[0m\u001b[1;33m]\u001b[0m\u001b[1;33m.\u001b[0m\u001b[0mtext\u001b[0m\u001b[1;33m\u001b[0m\u001b[0m\n\u001b[0;32m      4\u001b[0m \u001b[0mval\u001b[0m \u001b[1;33m=\u001b[0m \u001b[0mturnFloat\u001b[0m\u001b[1;33m(\u001b[0m\u001b[0mitens\u001b[0m\u001b[1;33m[\u001b[0m\u001b[1;36m1\u001b[0m\u001b[1;33m]\u001b[0m\u001b[1;33m.\u001b[0m\u001b[0mtext\u001b[0m\u001b[1;33m)\u001b[0m\u001b[1;33m\u001b[0m\u001b[0m\n\u001b[0;32m      5\u001b[0m \u001b[0mfdate\u001b[0m \u001b[1;33m=\u001b[0m \u001b[0mpd\u001b[0m\u001b[1;33m.\u001b[0m\u001b[0mto_datetime\u001b[0m\u001b[1;33m(\u001b[0m\u001b[0mdate\u001b[0m\u001b[1;33m)\u001b[0m\u001b[1;33m\u001b[0m\u001b[0m\n",
      "\u001b[1;31mNameError\u001b[0m: name 'rows' is not defined"
     ]
    }
   ],
   "source": [
    "row = rows[1]\n",
    "itens = row.find_all('td')\n",
    "date = itens[0].text\n",
    "val = turnFloat(itens[1].text)\n",
    "fdate = pd.to_datetime(date)\n",
    "d = ftoday - fdate"
   ]
  },
  {
   "cell_type": "code",
   "execution_count": null,
   "metadata": {},
   "outputs": [],
   "source": [
    "pin = 1066"
   ]
  },
  {
   "cell_type": "code",
   "execution_count": 23,
   "metadata": {},
   "outputs": [
    {
     "data": {
      "text/html": [
       "<div>\n",
       "<style scoped>\n",
       "    .dataframe tbody tr th:only-of-type {\n",
       "        vertical-align: middle;\n",
       "    }\n",
       "\n",
       "    .dataframe tbody tr th {\n",
       "        vertical-align: top;\n",
       "    }\n",
       "\n",
       "    .dataframe thead th {\n",
       "        text-align: right;\n",
       "    }\n",
       "</style>\n",
       "<table border=\"1\" class=\"dataframe\">\n",
       "  <thead>\n",
       "    <tr style=\"text-align: right;\">\n",
       "      <th></th>\n",
       "      <th>date</th>\n",
       "      <th>val</th>\n",
       "    </tr>\n",
       "  </thead>\n",
       "  <tbody>\n",
       "    <tr>\n",
       "      <th>2479</th>\n",
       "      <td>27.03.2020</td>\n",
       "      <td>33102.8</td>\n",
       "    </tr>\n",
       "    <tr>\n",
       "      <th>2480</th>\n",
       "      <td>28.03.2020</td>\n",
       "      <td>32250.0</td>\n",
       "    </tr>\n",
       "    <tr>\n",
       "      <th>2481</th>\n",
       "      <td>29.03.2020</td>\n",
       "      <td>31095.0</td>\n",
       "    </tr>\n",
       "    <tr>\n",
       "      <th>2482</th>\n",
       "      <td>30.03.2020</td>\n",
       "      <td>33198.2</td>\n",
       "    </tr>\n",
       "    <tr>\n",
       "      <th>2483</th>\n",
       "      <td>31.03.2020</td>\n",
       "      <td>32769.0</td>\n",
       "    </tr>\n",
       "  </tbody>\n",
       "</table>\n",
       "</div>"
      ],
      "text/plain": [
       "            date      val\n",
       "2479  27.03.2020  33102.8\n",
       "2480  28.03.2020  32250.0\n",
       "2481  29.03.2020  31095.0\n",
       "2482  30.03.2020  33198.2\n",
       "2483  31.03.2020  32769.0"
      ]
     },
     "execution_count": 23,
     "metadata": {},
     "output_type": "execute_result"
    }
   ],
   "source": [
    "df = pd.read_csv('data_brl.csv')\n",
    "ftoday = pd.to_datetime(today(time.time()), dayfirst = True)\n",
    "rows = browser.find(class_ = 'genTbl closedTbl historicalTbl').find_all('tr')[1:]\n",
    "hist = {\n",
    "    'date': [],\n",
    "    'val': []\n",
    "}\n",
    "for row in rows:\n",
    "    itens = row.find_all('td')\n",
    "    date = itens[0].text\n",
    "    val = turnFloat(itens[1].text)\n",
    "    fdate = pd.to_datetime(date, dayfirst = True)\n",
    "    if date not in df['date'].values:\n",
    "        d = ftoday - fdate\n",
    "        if d.days > 0 or (d.days == 0 and time.localtime().tm_hour >= 21):\n",
    "            hist['date'].append(date)\n",
    "            hist['val'].append(val)\n",
    "hist['date'] = hist['date'][::-1]\n",
    "hist['val'] = hist['val'][::-1]\n",
    "df = pd.concat([df, pd.DataFrame(hist)], ignore_index = True)\n",
    "df.to_csv('data_brl.csv', index = False)\n",
    "df.tail()"
   ]
  },
  {
   "cell_type": "code",
   "execution_count": 46,
   "metadata": {},
   "outputs": [
    {
     "data": {
      "image/png": "[encoded data removed]",
      "text/plain": [
       "<Figure size 1080x576 with 1 Axes>"
      ]
     },
     "metadata": {},
     "output_type": "display_data"
    }
   ],
   "source": [
    "amost = 50\n",
    "df[-amost:].val.plot(figsize=(15,8), title= 'Daily Ridership', fontsize=14)\n",
    "plt.show()"
   ]
  },
  {
   "cell_type": "code",
   "execution_count": 47,
   "metadata": {},
   "outputs": [
    {
     "name": "stdout",
     "output_type": "stream",
     "text": [
      "Variação: 0.013\n"
     ]
    }
   ],
   "source": [
    "d = 0\n",
    "vals = df.val\n",
    "last = vals.iloc[-(2+d)]\n",
    "now = vals.iloc[-(1+d)]\n",
    "var = round((now - last)/last, 4)\n",
    "print(f'Variação: {var}')"
   ]
  },
  {
   "cell_type": "code",
   "execution_count": 51,
   "metadata": {},
   "outputs": [
    {
     "name": "stderr",
     "output_type": "stream",
     "text": [
      "C:\\Users\\thale\\Anaconda3\\lib\\site-packages\\statsmodels\\base\\model.py:508: ConvergenceWarning: Maximum Likelihood optimization failed to converge. Check mle_retvals\n",
      "  \"Check mle_retvals\", ConvergenceWarning)\n"
     ]
    },
    {
     "data": {
      "image/png": "[encoded data removed]",
      "text/plain": [
       "<Figure size 1152x576 with 1 Axes>"
      ]
     },
     "metadata": {},
     "output_type": "display_data"
    }
   ],
   "source": [
    "n_total = len(df)\n",
    "amost = 15\n",
    "n_pred = 2\n",
    "\n",
    "pred = {}\n",
    "\n",
    "null = np.array([None for _ in range(n_total)])\n",
    "\n",
    "sp = 4\n",
    "name = f'ES_{sp}'\n",
    "fit1 = ExponentialSmoothing(np.asarray(df['val']) ,seasonal_periods=sp ,trend='add', seasonal='add',).fit()\n",
    "forecast = fit1.forecast(n_pred)\n",
    "pred[name] = np.concatenate((null, forecast))\n",
    "plt.figure(figsize=(16,8))\n",
    "plt.plot(df[-amost:]['val'], label = 'Valor Real')\n",
    "plt.plot(pred[name], label = f'Previsão {name}')\n",
    "\n",
    "sp = 7\n",
    "name = f'ES_{sp}'\n",
    "fit1 = ExponentialSmoothing(np.asarray(df['val']) ,seasonal_periods=sp ,trend='add', seasonal='add',).fit()\n",
    "forecast = fit1.forecast(n_pred)\n",
    "pred[name] = np.concatenate((null, forecast))\n",
    "plt.plot(pred[name], label = f'Previsão {name}')\n",
    "\n",
    "sp = 12\n",
    "name = f'ES_{sp}'\n",
    "fit1 = ExponentialSmoothing(np.asarray(df['val']) ,seasonal_periods=sp ,trend='add', seasonal='add',).fit()\n",
    "forecast = fit1.forecast(n_pred)\n",
    "pred[name] = np.concatenate((null, forecast))\n",
    "plt.plot(pred[name], label = f'Previsão {name}')\n",
    "\n",
    "name = f'SARIMAX'\n",
    "fit1 = sm.tsa.statespace.SARIMAX(df['val'], order=(3, 1, 4),seasonal_order=(0,1,1,7)).fit()\n",
    "forecast = fit1.forecast(n_pred)\n",
    "pred[name] = np.concatenate((null, forecast))\n",
    "plt.plot(pred[name], label = f'Previsão {name}')\n",
    "\n",
    "sl = 0.6\n",
    "name = f'SES_{sl}'\n",
    "fit1 = SimpleExpSmoothing(np.asarray(df['val'])).fit(smoothing_level=sl,optimized=False)\n",
    "forecast = fit1.forecast(n_pred)\n",
    "pred[name] = np.concatenate((null, forecast))\n",
    "plt.plot(pred[name], label = f'Previsão {name}')\n",
    "\n",
    "sl = 0.9\n",
    "name = f'SES_{sl}'\n",
    "fit1 = SimpleExpSmoothing(np.asarray(df['val'])).fit(smoothing_level=sl,optimized=False)\n",
    "forecast = fit1.forecast(n_pred)\n",
    "pred[name] = np.concatenate((null, forecast))\n",
    "plt.plot(pred[name], label = f'Previsão {name}')\n",
    "\n",
    "sl = 1.2\n",
    "name = f'SES_{sl}'\n",
    "fit1 = SimpleExpSmoothing(np.asarray(df['val'])).fit(smoothing_level=sl,optimized=False)\n",
    "forecast = fit1.forecast(n_pred)\n",
    "pred[name] = np.concatenate((null, forecast))\n",
    "plt.plot(pred[name], label = f'Previsão {name}')\n",
    "\n",
    "#eps = 400\n",
    "#name = f'Sequential_{eps}'\n",
    "#model = Sequential()\n",
    "#model.add(Dense(24, input_shape = (1,), activation='relu'))\n",
    "#model.add(Dense(12, activation='relu'))\n",
    "#model.add(Dense(8, activation='relu'))\n",
    "#model.add(Dense(1))\n",
    "#model.compile(loss='mean_squared_error', optimizer='adam')\n",
    "#trainX, trainY = df['val'][:-1].values, df['val'][1:].values\n",
    "#testX, testY = df['val'][-1:].values, df['val'].values\n",
    "#model.fit(trainX, trainY, epochs=eps, batch_size=2, verbose=2)\n",
    "#pred[name] = np.concatenate((null, model.predict(testX)[:,0]))\n",
    "#plt.plot(pred[name], label = f'Previsão {name}')\n",
    "\n",
    "plt.legend(loc='best')\n",
    "plt.show()"
   ]
  },
  {
   "cell_type": "code",
   "execution_count": 52,
   "metadata": {},
   "outputs": [
    {
     "name": "stdout",
     "output_type": "stream",
     "text": [
      "Presente: 27700.4\n",
      "\n",
      "ES_4: 27248.525995290373 --- False\n",
      "ES_7: 27150.809332161632 --- False\n",
      "ES_12: 27641.987198264025 --- False\n",
      "SARIMAX: 27440.520864925475 --- False\n",
      "SES_0.6: 27451.515785172676 --- False\n",
      "SES_0.9: 27650.890088154665 --- False\n",
      "SES_1.2: 27686.09879759245 --- False\n"
     ]
    },
    {
     "name": "stderr",
     "output_type": "stream",
     "text": [
      "C:\\Users\\thale\\Anaconda3\\lib\\site-packages\\numpy\\core\\_methods.py:140: RuntimeWarning: Degrees of freedom <= 0 for slice\n",
      "  keepdims=keepdims)\n",
      "C:\\Users\\thale\\Anaconda3\\lib\\site-packages\\numpy\\core\\_methods.py:110: RuntimeWarning: invalid value encountered in true_divide\n",
      "  arrmean, rcount, out=arrmean, casting='unsafe', subok=False)\n",
      "C:\\Users\\thale\\Anaconda3\\lib\\site-packages\\numpy\\core\\_methods.py:132: RuntimeWarning: invalid value encountered in double_scalars\n",
      "  ret = ret.dtype.type(ret / rcount)\n",
      "C:\\Users\\thale\\Anaconda3\\lib\\site-packages\\numpy\\core\\fromnumeric.py:2920: RuntimeWarning: Mean of empty slice.\n",
      "  out=out, **kwargs)\n",
      "C:\\Users\\thale\\Anaconda3\\lib\\site-packages\\numpy\\core\\_methods.py:85: RuntimeWarning: invalid value encountered in double_scalars\n",
      "  ret = ret.dtype.type(ret / rcount)\n"
     ]
    },
    {
     "name": "stdout",
     "output_type": "stream",
     "text": [
      "\n",
      "Desvio Padrão: 193.128\n",
      "Desvio Padrão de crescentes: 0\n",
      "Desvio Padrão de decrescentes: 193.128\n",
      "Número de crescentes: 0\n",
      "Número de decrescentes: 7\n",
      "Distância de crescentes: 0\n",
      "Distância de decrescentes: 233.207\n"
     ]
    }
   ],
   "source": [
    "hist = {\n",
    "    'ES_4': [],\n",
    "    'ES_7': [],\n",
    "    'ES_12': [],\n",
    "    'SARIMAX': [],\n",
    "    'SES_0.6': [],\n",
    "    'SES_0.9': [],\n",
    "    'SES_1.2': [],\n",
    "    'DP': [],\n",
    "    'DP_U': [],\n",
    "    'DP_D': [],\n",
    "    'NUM_U': [],\n",
    "    'NUM_D': [],\n",
    "    'DIST_U': [],\n",
    "    'DIST_D': [],\n",
    "}\n",
    "\n",
    "n = n_total\n",
    "l = df['val'][n-1]\n",
    "\n",
    "preds = []\n",
    "ups = []\n",
    "downs = []\n",
    "print(f'Presente: {l}\\n')\n",
    "\n",
    "for k in pred.keys():\n",
    "    p = pred[k][n]\n",
    "    preds.append(p)\n",
    "    up = (p > l)\n",
    "    if up:\n",
    "        ups.append(p)\n",
    "        hist[k].append(1)\n",
    "    else:\n",
    "        downs.append(p)\n",
    "        hist[k].append(0)\n",
    "    print(f'{k}: {p} --- {up}')\n",
    "\n",
    "sd = numerize(round(np.std(preds), 3))\n",
    "u_sd = numerize(round(np.std(ups), 3))\n",
    "d_sd = numerize(round(np.std(downs), 3))\n",
    "u_len = numerize(round(len(ups), 3))\n",
    "d_len = numerize(round(len(downs), 3))\n",
    "u_dif = numerize(round(abs(np.mean(ups) - l), 3))\n",
    "d_dif = numerize(round(abs(np.mean(downs) - l), 3))\n",
    "\n",
    "hist['DP'].append(sd)\n",
    "hist['DP_U'].append(u_sd)\n",
    "hist['DP_D'].append(d_sd)\n",
    "hist['NUM_U'].append(u_len)\n",
    "hist['NUM_D'].append(d_len)\n",
    "hist['DIST_U'].append(u_dif)\n",
    "hist['DIST_D'].append(d_dif)\n",
    "\n",
    "info = pd.DataFrame(hist)\n",
    "\n",
    "print(f'\\nDesvio Padrão: {sd}')\n",
    "print(f'Desvio Padrão de crescentes: {u_sd}')\n",
    "print(f'Desvio Padrão de decrescentes: {d_sd}')\n",
    "print(f'Número de crescentes: {u_len}')\n",
    "print(f'Número de decrescentes: {d_len}')\n",
    "print(f'Distância de crescentes: {u_dif}')\n",
    "print(f'Distância de decrescentes: {d_dif}')"
   ]
  },
  {
   "cell_type": "code",
   "execution_count": 7,
   "metadata": {},
   "outputs": [
    {
     "name": "stdout",
     "output_type": "stream",
     "text": [
      "Limite perdido.\n",
      "Limite alcançado.\n",
      "Limite perdido.\n",
      "Limite alcançado.\n",
      "Limite perdido.\n",
      "Limite alcançado.\n",
      "Limite perdido.\n",
      "Limite alcançado.\n",
      "Limite perdido.\n",
      "Limite alcançado.\n"
     ]
    },
    {
     "ename": "KeyboardInterrupt",
     "evalue": "",
     "output_type": "error",
     "traceback": [
      "\u001b[1;31m---------------------------------------------------------------------------\u001b[0m",
      "\u001b[1;31mKeyboardInterrupt\u001b[0m                         Traceback (most recent call last)",
      "\u001b[1;32m<ipython-input-7-3d06d6ae450e>\u001b[0m in \u001b[0;36m<module>\u001b[1;34m()\u001b[0m\n\u001b[0;32m     25\u001b[0m     \u001b[1;32mexcept\u001b[0m\u001b[1;33m:\u001b[0m\u001b[1;33m\u001b[0m\u001b[0m\n\u001b[0;32m     26\u001b[0m         \u001b[1;32mpass\u001b[0m\u001b[1;33m\u001b[0m\u001b[0m\n\u001b[1;32m---> 27\u001b[1;33m     \u001b[0mtime\u001b[0m\u001b[1;33m.\u001b[0m\u001b[0msleep\u001b[0m\u001b[1;33m(\u001b[0m\u001b[1;36m30\u001b[0m\u001b[1;33m)\u001b[0m\u001b[1;33m\u001b[0m\u001b[0m\n\u001b[0m",
      "\u001b[1;31mKeyboardInterrupt\u001b[0m: "
     ]
    }
   ],
   "source": [
    "from ztools.ntf import mail, telegram\n",
    "\n",
    "\n",
    "limit = 34100\n",
    "\n",
    "#bot.send_message(my_id, f'Definido alerta sobre BTCBRL para limite de R$ {turnCurrency(str(limit))}.')\n",
    "\n",
    "fvalue = float('inf')\n",
    "last_value = fvalue\n",
    "while True:\n",
    "    try:\n",
    "        data, cvalue = now_value()\n",
    "        value = turnFloat(str(cvalue))\n",
    "        if last_value < limit and value >= limit:\n",
    "            print('Limite alcançado.')\n",
    "            msg = f'O bitcoin está acima do limite definido.\\n Valor atual: R$ {cvalue}.'\n",
    "            #mail(sub = 'BTCBRL - Valor limite alcançado', msg = msg)\n",
    "            telegram(msg = msg)\n",
    "        elif last_value > limit and value <= limit:\n",
    "            print('Limite perdido.')\n",
    "            msg = f'O bitcoin está abaixo do limite definido.\\n Valor atual: R$ {cvalue}.'\n",
    "            #mail(sub = 'BTCBRL - Valor limite perdido', msg = msg)\n",
    "            telegram(msg = msg)\n",
    "        last_value = value\n",
    "    except:\n",
    "        pass\n",
    "    time.sleep(30)"
   ]
  },
  {
   "cell_type": "code",
   "execution_count": null,
   "metadata": {},
   "outputs": [],
   "source": []
  }
 ],
 "metadata": {
  "kernelspec": {
   "display_name": "Python 3",
   "language": "python",
   "name": "python3"
  },
  "language_info": {
   "codemirror_mode": {
    "name": "ipython",
    "version": 3
   },
   "file_extension": ".py",
   "mimetype": "text/x-python",
   "name": "python",
   "nbconvert_exporter": "python",
   "pygments_lexer": "ipython3",
   "version": "3.6.4"
  }
 },
 "nbformat": 4,
 "nbformat_minor": 2
}
